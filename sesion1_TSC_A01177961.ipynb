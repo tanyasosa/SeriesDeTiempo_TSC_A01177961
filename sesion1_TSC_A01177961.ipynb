{
  "nbformat": 4,
  "nbformat_minor": 0,
  "metadata": {
    "colab": {
      "provenance": [],
      "authorship_tag": "ABX9TyOGvvTdIQypZqexfBnqTue9",
      "include_colab_link": true
    },
    "kernelspec": {
      "name": "python3",
      "display_name": "Python 3"
    },
    "language_info": {
      "name": "python"
    }
  },
  "cells": [
    {
      "cell_type": "markdown",
      "metadata": {
        "id": "view-in-github",
        "colab_type": "text"
      },
      "source": [
        "<a href=\"https://colab.research.google.com/github/tanyasosa/SeriesDeTiempo_TSC_A01177961/blob/main/sesion1_TSC_A01177961.ipynb\" target=\"_parent\"><img src=\"https://colab.research.google.com/assets/colab-badge.svg\" alt=\"Open In Colab\"/></a>"
      ]
    },
    {
      "cell_type": "code",
      "execution_count": null,
      "metadata": {
        "id": "fbmWK2bRMyVG"
      },
      "outputs": [],
      "source": []
    },
    {
      "cell_type": "markdown",
      "source": [
        "# Serie de tiempo\n",
        "## Tanya Sosa Cavazos A01177961\n",
        "### Sesión 1 14 de febrero\n"
      ],
      "metadata": {
        "id": "fnmGh8i6Np0g"
      }
    },
    {
      "cell_type": "code",
      "source": [
        "variable1 = 3\n",
        "variable1"
      ],
      "metadata": {
        "colab": {
          "base_uri": "https://localhost:8080/"
        },
        "id": "kohci0TpRrkS",
        "outputId": "576b3554-8b1f-478d-d4c7-a07e9e96228d"
      },
      "execution_count": 3,
      "outputs": [
        {
          "output_type": "execute_result",
          "data": {
            "text/plain": [
              "3"
            ]
          },
          "metadata": {},
          "execution_count": 3
        }
      ]
    },
    {
      "cell_type": "code",
      "source": [
        "variable2 = 5.8\n",
        "variable2"
      ],
      "metadata": {
        "colab": {
          "base_uri": "https://localhost:8080/"
        },
        "id": "imHU-_3JSz1E",
        "outputId": "f5c04c6b-e29b-4c42-ef5e-c7bb332d61f5"
      },
      "execution_count": 4,
      "outputs": [
        {
          "output_type": "execute_result",
          "data": {
            "text/plain": [
              "5.8"
            ]
          },
          "metadata": {},
          "execution_count": 4
        }
      ]
    },
    {
      "cell_type": "code",
      "source": [
        "variable3 = \"tanya\""
      ],
      "metadata": {
        "id": "J2GC78gDS8sN"
      },
      "execution_count": 16,
      "outputs": []
    },
    {
      "cell_type": "code",
      "source": [
        "print('Yo soy', variable3)"
      ],
      "metadata": {
        "colab": {
          "base_uri": "https://localhost:8080/"
        },
        "id": "ot6PU4wjTNpq",
        "outputId": "e4047697-0d0b-41cf-a964-b0f785d08153"
      },
      "execution_count": 17,
      "outputs": [
        {
          "output_type": "stream",
          "name": "stdout",
          "text": [
            "Yo soy tanya\n"
          ]
        }
      ]
    },
    {
      "cell_type": "code",
      "source": [
        "type(variable1)"
      ],
      "metadata": {
        "colab": {
          "base_uri": "https://localhost:8080/"
        },
        "id": "GGisdVGNTwar",
        "outputId": "54181a44-3695-48c1-9b87-3704cc05adcf"
      },
      "execution_count": 13,
      "outputs": [
        {
          "output_type": "execute_result",
          "data": {
            "text/plain": [
              "int"
            ]
          },
          "metadata": {},
          "execution_count": 13
        }
      ]
    },
    {
      "cell_type": "code",
      "source": [
        "type(variable2)"
      ],
      "metadata": {
        "colab": {
          "base_uri": "https://localhost:8080/"
        },
        "id": "ixgPdaU2UPAk",
        "outputId": "dc80afde-bd1a-42fa-f576-4916aff3a536"
      },
      "execution_count": 14,
      "outputs": [
        {
          "output_type": "execute_result",
          "data": {
            "text/plain": [
              "float"
            ]
          },
          "metadata": {},
          "execution_count": 14
        }
      ]
    },
    {
      "cell_type": "code",
      "source": [
        "type(variable3)"
      ],
      "metadata": {
        "colab": {
          "base_uri": "https://localhost:8080/"
        },
        "id": "b46yLyliURvM",
        "outputId": "a40a6ad3-ead3-4944-d1f9-a13590829320"
      },
      "execution_count": 18,
      "outputs": [
        {
          "output_type": "execute_result",
          "data": {
            "text/plain": [
              "str"
            ]
          },
          "metadata": {},
          "execution_count": 18
        }
      ]
    },
    {
      "cell_type": "code",
      "source": [
        "variable1 + variable2"
      ],
      "metadata": {
        "colab": {
          "base_uri": "https://localhost:8080/"
        },
        "id": "57gYFT-EUpIR",
        "outputId": "fab70307-c2d7-4d54-a5cd-eae2172bb474"
      },
      "execution_count": 19,
      "outputs": [
        {
          "output_type": "execute_result",
          "data": {
            "text/plain": [
              "8.8"
            ]
          },
          "metadata": {},
          "execution_count": 19
        }
      ]
    },
    {
      "cell_type": "code",
      "source": [
        "print('la suma es', variable1 + variable2)"
      ],
      "metadata": {
        "colab": {
          "base_uri": "https://localhost:8080/"
        },
        "id": "S6bGKRcoU0nQ",
        "outputId": "d71ac423-3f1b-478d-8c5b-99a986800259"
      },
      "execution_count": 20,
      "outputs": [
        {
          "output_type": "stream",
          "name": "stdout",
          "text": [
            "la suma es 8.8\n"
          ]
        }
      ]
    },
    {
      "cell_type": "code",
      "source": [
        "Mifamilia = [\"Tanya\", \"Katya\", \"Jesús\"]\n",
        "Mifamilia"
      ],
      "metadata": {
        "colab": {
          "base_uri": "https://localhost:8080/"
        },
        "id": "Ytc46If2VcWA",
        "outputId": "96bc6ffa-d20f-4c85-dfdf-fd3f9ceda2c1"
      },
      "execution_count": 21,
      "outputs": [
        {
          "output_type": "execute_result",
          "data": {
            "text/plain": [
              "['Tanya', 'Katya', 'Jesús']"
            ]
          },
          "metadata": {},
          "execution_count": 21
        }
      ]
    },
    {
      "cell_type": "code",
      "source": [],
      "metadata": {
        "id": "NJDlul3JV-i_"
      },
      "execution_count": null,
      "outputs": []
    }
  ]
}